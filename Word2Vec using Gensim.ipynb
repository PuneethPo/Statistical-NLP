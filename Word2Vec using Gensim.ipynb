{
  "nbformat": 4,
  "nbformat_minor": 0,
  "metadata": {
    "colab": {
      "name": "Untitled207.ipynb",
      "provenance": []
    },
    "kernelspec": {
      "name": "python3",
      "display_name": "Python 3"
    },
    "language_info": {
      "name": "python"
    }
  },
  "cells": [
    {
      "cell_type": "code",
      "metadata": {
        "colab": {
          "base_uri": "https://localhost:8080/"
        },
        "id": "VQIa9u3IdH6G",
        "outputId": "12a7add0-f5f5-45a0-fb2d-e25c9e14e175"
      },
      "source": [
        "# Importing nltk, word2vec \n",
        "\n",
        "import nltk\n",
        "nltk.download('punkt')\n",
        "nltk.download('stopwords')"
      ],
      "execution_count": 8,
      "outputs": [
        {
          "output_type": "stream",
          "text": [
            "[nltk_data] Downloading package punkt to /root/nltk_data...\n",
            "[nltk_data]   Package punkt is already up-to-date!\n",
            "[nltk_data] Downloading package stopwords to /root/nltk_data...\n",
            "[nltk_data]   Package stopwords is already up-to-date!\n"
          ],
          "name": "stdout"
        },
        {
          "output_type": "execute_result",
          "data": {
            "text/plain": [
              "True"
            ]
          },
          "metadata": {
            "tags": []
          },
          "execution_count": 8
        }
      ]
    },
    {
      "cell_type": "code",
      "metadata": {
        "id": "L0-cILEOdbdx"
      },
      "source": [
        "# importing stop words from nltk \n",
        "from nltk.corpus import stopwords\n",
        "from gensim.models import Word2Vec"
      ],
      "execution_count": 16,
      "outputs": []
    },
    {
      "cell_type": "code",
      "metadata": {
        "id": "ko4dSg2edpz2"
      },
      "source": [
        "# importing regular expression \n",
        "import re"
      ],
      "execution_count": 17,
      "outputs": []
    },
    {
      "cell_type": "code",
      "metadata": {
        "id": "2PqZGafpdumN"
      },
      "source": [
        "paragraph = \"\"\"I have three visions for India. In 3000 years of our history, people from all over \n",
        "               the world have come and invaded us, captured our lands, conquered our minds. \n",
        "               From Alexander onwards, the Greeks, the Turks, the Moguls, the Portuguese, the British,\n",
        "               the French, the Dutch, all of them came and looted us, took over what was ours. \n",
        "               Yet we have not done this to any other nation. We have not conquered anyone. \n",
        "               We have not grabbed their land, their culture, \n",
        "               their history and tried to enforce our way of life on them. \n",
        "               Why? Because we respect the freedom of others.That is why my \n",
        "               first vision is that of freedom. I believe that India got its first vision of \n",
        "               this in 1857, when we started the War of Independence. It is this freedom that\n",
        "               we must protect and nurture and build on. If we are not free, no one will respect us.\n",
        "               My second vision for India’s development. For fifty years we have been a developing nation.\n",
        "               It is time we see ourselves as a developed nation. We are among the top 5 nations of the world\n",
        "               in terms of GDP. We have a 10 percent growth rate in most areas. Our poverty levels are falling.\n",
        "               Our achievements are being globally recognised today. Yet we lack the self-confidence to\n",
        "               see ourselves as a developed nation, self-reliant and self-assured. Isn’t this incorrect?\n",
        "               I have a third vision. India must stand up to the world. Because I believe that unless India \n",
        "               stands up to the world, no one will respect us. Only strength respects strength. We must be \n",
        "               strong not only as a military power but also as an economic power. Both must go hand-in-hand. \n",
        "               My good fortune was to have worked with three great minds. Dr. Vikram Sarabhai of the Dept. of \n",
        "               space, Professor Satish Dhawan, who succeeded him and Dr. Brahm Prakash, father of nuclear material.\n",
        "               I was lucky to have worked with all three of them closely and consider this the great opportunity of my life. \n",
        "               I see four milestones in my career\"\"\""
      ],
      "execution_count": 18,
      "outputs": []
    },
    {
      "cell_type": "code",
      "metadata": {
        "id": "uzIIQaktd3hr"
      },
      "source": [
        "# Preprocessing the data\n",
        "\n",
        "text = re.sub(r'\\[[0-9]*\\]',' ',paragraph)\n",
        "text = re.sub(r'\\s+',' ',text)\n",
        "text = text.lower()\n",
        "text = re.sub(r'\\d',' ',text)\n",
        "text = re.sub(r'\\s+',' ',text)"
      ],
      "execution_count": 19,
      "outputs": []
    },
    {
      "cell_type": "code",
      "metadata": {
        "id": "Culupbt5eMhf"
      },
      "source": [
        "# Preparing the dataset \n",
        "sentences = nltk.sent_tokenize(text)\n",
        "\n",
        "sentences = [nltk.word_tokenize(sentence) for sentence in sentences]"
      ],
      "execution_count": 20,
      "outputs": []
    },
    {
      "cell_type": "code",
      "metadata": {
        "id": "3SRstWywecUZ"
      },
      "source": [
        "for i in range(len(sentences)):\n",
        "    sentences[i] = [word for word in sentences[i] if word not in stopwords.words('english')]"
      ],
      "execution_count": 21,
      "outputs": []
    },
    {
      "cell_type": "code",
      "metadata": {
        "id": "KR8Y9tiLee6C"
      },
      "source": [
        "# Training the Word2Vec model\n",
        "model = Word2Vec(sentences, min_count=1)\n",
        "\n",
        "\n",
        "words = model.wv.vocab"
      ],
      "execution_count": 22,
      "outputs": []
    },
    {
      "cell_type": "code",
      "metadata": {
        "colab": {
          "base_uri": "https://localhost:8080/"
        },
        "id": "diQlqAigfIdd",
        "outputId": "0f49d7e6-2307-4642-cd4f-d3dcf15da7e7"
      },
      "source": [
        "# Finding Word Vectors\n",
        "vector = model.wv['war']\n",
        "\n",
        "print(vector)"
      ],
      "execution_count": 23,
      "outputs": [
        {
          "output_type": "stream",
          "text": [
            "[-4.4183945e-03  1.2467743e-03 -4.2322493e-04 -9.4196765e-04\n",
            "  3.5371641e-03  1.5224982e-03 -4.9472338e-04 -2.5710228e-03\n",
            " -2.4183446e-03  9.7502671e-05  4.3907235e-03 -2.9024570e-03\n",
            " -3.6105383e-04 -8.5379143e-04 -4.3180366e-03 -2.9409027e-03\n",
            "  3.7102005e-03  2.4416435e-03 -1.3772410e-03  2.3127932e-03\n",
            "  6.0928561e-04  2.5418068e-03  9.0880261e-04 -1.5709210e-03\n",
            " -1.6029022e-03 -4.0685060e-03  3.8885076e-03 -2.9572260e-03\n",
            " -2.4867696e-03  3.9098994e-03  4.9913018e-03  1.9333995e-03\n",
            " -1.0547973e-03  1.4473371e-03  1.6994041e-03 -1.5984760e-03\n",
            " -1.0039911e-03 -2.2049970e-03 -1.9127317e-03  2.8383364e-03\n",
            " -1.9146177e-03 -9.7031688e-04 -4.8440620e-03 -3.0957742e-03\n",
            " -8.4015029e-04  1.0439656e-03 -4.2617694e-03 -2.8658740e-03\n",
            " -3.5360903e-03  4.1112984e-03  8.9457375e-04  3.7437978e-03\n",
            "  3.8214156e-03  4.1660434e-03  3.7564770e-03  2.7593358e-03\n",
            " -2.9010354e-03  4.3307287e-03 -1.1321482e-03  4.6677291e-03\n",
            "  4.1679782e-03 -4.4053788e-03 -1.2174658e-03  1.1425606e-03\n",
            "  2.0981061e-04  1.5194740e-03  7.0289070e-06 -1.4246987e-03\n",
            " -7.1504875e-04  3.4405889e-03  3.7485533e-03 -1.4400430e-03\n",
            " -4.4511999e-03 -3.5261095e-03 -1.4276172e-03 -4.4449470e-03\n",
            " -9.2583639e-04 -2.4379168e-03 -4.0599979e-03 -1.6578402e-03\n",
            " -4.6559609e-03  4.1263076e-03  2.6259313e-03 -1.6987451e-03\n",
            " -3.3641509e-03 -2.8450869e-03 -4.0025846e-04 -4.5262813e-03\n",
            " -1.6268225e-03 -1.3905272e-04 -8.0917106e-04 -1.4673531e-03\n",
            " -9.2232693e-04  1.2218172e-03 -4.1002277e-03 -4.9367157e-04\n",
            "  8.2314998e-04 -4.2842557e-03  5.2590120e-05  1.5886569e-04]\n"
          ],
          "name": "stdout"
        }
      ]
    },
    {
      "cell_type": "code",
      "metadata": {
        "colab": {
          "base_uri": "https://localhost:8080/"
        },
        "id": "hMvToiUKhQkm",
        "outputId": "c48ef2d5-d588-4745-dee5-92dfda95d0bd"
      },
      "source": [
        "# words similar to war\n",
        "model.wv.most_similar('war')"
      ],
      "execution_count": 25,
      "outputs": [
        {
          "output_type": "execute_result",
          "data": {
            "text/plain": [
              "[('india', 0.21289995312690735),\n",
              " ('done', 0.20393598079681396),\n",
              " ('brahm', 0.18509680032730103),\n",
              " ('lack', 0.1841282844543457),\n",
              " ('power', 0.1743377298116684),\n",
              " ('go', 0.17309625446796417),\n",
              " ('unless', 0.17283976078033447),\n",
              " ('one', 0.1492421180009842),\n",
              " ('military', 0.14916706085205078),\n",
              " ('people', 0.13677027821540833)]"
            ]
          },
          "metadata": {
            "tags": []
          },
          "execution_count": 25
        }
      ]
    },
    {
      "cell_type": "code",
      "metadata": {
        "colab": {
          "base_uri": "https://localhost:8080/"
        },
        "id": "rmh7Be9_fLUq",
        "outputId": "d7ef6291-18cc-4e8e-b62e-d8f268577cd0"
      },
      "source": [
        "# Most similar words\n",
        "similar = model.wv.most_similar('vikram')\n",
        "print(similar)"
      ],
      "execution_count": 24,
      "outputs": [
        {
          "output_type": "stream",
          "text": [
            "[('globally', 0.21977344155311584), ('professor', 0.21477895975112915), ('closely', 0.2123771607875824), ('vision', 0.20406436920166016), ('fifty', 0.169871985912323), ('lands', 0.14780855178833008), ('independence', 0.14424565434455872), ('dhawan', 0.1428380310535431), ('looted', 0.1422736644744873), ('unless', 0.13661634922027588)]\n"
          ],
          "name": "stdout"
        }
      ]
    },
    {
      "cell_type": "code",
      "metadata": {
        "id": "wcCRMIgUfOn8"
      },
      "source": [
        ""
      ],
      "execution_count": null,
      "outputs": []
    }
  ]
}